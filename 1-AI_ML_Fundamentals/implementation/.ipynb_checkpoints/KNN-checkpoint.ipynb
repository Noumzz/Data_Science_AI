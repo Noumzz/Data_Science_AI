{
 "cells": [
  {
   "cell_type": "code",
   "execution_count": 1,
   "id": "f44597eb-46e2-4ca0-a8e7-2f54ad3f6a82",
   "metadata": {},
   "outputs": [],
   "source": [
    "# Import required libraries\n",
    "import numpy as np\n",
    "import pandas as pd\n",
    "import matplotlib.pyplot as plt\n",
    "from sklearn.neighbors import KNeighborsRegressor\n",
    "from sklearn.model_selection import train_test_split\n",
    "%matplotlib inline\n"
   ]
  },
  {
   "cell_type": "code",
   "execution_count": 29,
   "id": "3d971d4c-1a3a-40b2-84a4-330007e36fe4",
   "metadata": {},
   "outputs": [
    {
     "name": "stdout",
     "output_type": "stream",
     "text": [
      "      ID     TV  Radio  Newspaper  Sales\n",
      "0      1  230.1   37.8       69.2   22.1\n",
      "1      2   44.5   39.3       45.1   10.4\n",
      "2      3   17.2   45.9       69.3    9.3\n",
      "3      4  151.5   41.3       58.5   18.5\n",
      "4      5  180.8   10.8       58.4   12.9\n",
      "..   ...    ...    ...        ...    ...\n",
      "195  196   38.2    3.7       13.8    7.6\n",
      "196  197   94.2    4.9        8.1    9.7\n",
      "197  198  177.0    9.3        6.4   12.8\n",
      "198  199  283.6   42.0       66.2   25.5\n",
      "199  200  232.1    8.6        8.7   13.4\n",
      "\n",
      "[200 rows x 5 columns]\n"
     ]
    }
   ],
   "source": [
    "filename = 'Advertising.csv'\n",
    "df_adv = pd.read_csv(filename)\n",
    "print(df_adv)\n",
    "df_new=df_adv.iloc[5:13]"
   ]
  },
  {
   "cell_type": "code",
   "execution_count": 35,
   "id": "fc6bc8dc-4b42-483b-8b4a-bf3c3cd665ba",
   "metadata": {},
   "outputs": [
    {
     "name": "stdout",
     "output_type": "stream",
     "text": [
      "5       8.7\n",
      "6      57.5\n",
      "7     120.2\n",
      "8       8.6\n",
      "9     199.8\n",
      "10     66.1\n",
      "11    214.7\n",
      "12     23.8\n",
      "Name: TV, dtype: float64\n",
      "[8.7]\n"
     ]
    }
   ],
   "source": [
    "# Get a subset of the data i.e. rows 5 to 13\n",
    "# Use the TV column as the predictor\n",
    "x_true = df_adv.TV.iloc[5:13]\n",
    "print(x_true)\n",
    "\n",
    "# Use the Sales column as the response\n",
    "y_true = df_adv.Sales.iloc[5:13]\n",
    "\n",
    "# Sort the data to get indices ordered from lowest to highest TV values\n",
    "idx = np.argsort(\"TV\")\n",
    "\n",
    "\n",
    "# Get the predictor data in the order given by idx above\n",
    "x_true  = x_true.iloc[idx].values\n",
    "print(x_true)\n",
    "\n",
    "# Get the response data in the order given by idx above\n",
    "y_true  = y_true.iloc[idx].values\n"
   ]
  }
 ],
 "metadata": {
  "kernelspec": {
   "display_name": "Python 3 (ipykernel)",
   "language": "python",
   "name": "python3"
  },
  "language_info": {
   "codemirror_mode": {
    "name": "ipython",
    "version": 3
   },
   "file_extension": ".py",
   "mimetype": "text/x-python",
   "name": "python",
   "nbconvert_exporter": "python",
   "pygments_lexer": "ipython3",
   "version": "3.12.4"
  }
 },
 "nbformat": 4,
 "nbformat_minor": 5
}
