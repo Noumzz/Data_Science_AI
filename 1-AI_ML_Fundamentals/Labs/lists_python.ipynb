{
 "cells": [
  {
   "cell_type": "code",
   "execution_count": 7,
   "id": "0385bb7d-3cc9-498c-9891-023e17e249bb",
   "metadata": {},
   "outputs": [
    {
     "name": "stdin",
     "output_type": "stream",
     "text": [
      "Enter a line of text:  Hello World how ARE YOU DOIng\n"
     ]
    },
    {
     "name": "stdout",
     "output_type": "stream",
     "text": [
      "\n",
      "Text in uppercase:\n",
      "HELLO WORLD HOW ARE YOU DOING\n",
      "\n",
      "Text in lowercase:\n",
      "hello world how are you doing\n"
     ]
    }
   ],
   "source": [
    "#task1\n",
    "def main():\n",
    "    text = input(\"Enter a line of text: \")\n",
    "    upper_text = text.upper()\n",
    "    lower_text = text.lower()\n",
    "    print(\"\\nText in uppercase:\")\n",
    "    print(upper_text)\n",
    "    \n",
    "    print(\"\\nText in lowercase:\")\n",
    "    print(lower_text)\n",
    "main()\n"
   ]
  },
  {
   "cell_type": "code",
   "execution_count": 9,
   "id": "2bd43a22-4402-4efd-bb9d-b13edaadcbac",
   "metadata": {},
   "outputs": [
    {
     "name": "stdin",
     "output_type": "stream",
     "text": [
      "Enter a string:  hello wrold how are you\n"
     ]
    },
    {
     "name": "stdout",
     "output_type": "stream",
     "text": [
      "Estimated number of words in the string: 5\n"
     ]
    }
   ],
   "source": [
    "#task2\n",
    "def estimate_word_count():\n",
    "    user_input = input(\"Enter a string: \")\n",
    "    words = user_input.strip().split()\n",
    "    estimated_word_count = len(words)\n",
    "    print(f\"Estimated number of words in the string: {estimated_word_count}\")\n",
    "\n",
    "\n",
    "estimate_word_count()\n",
    "\n",
    "\n"
   ]
  },
  {
   "cell_type": "code",
   "execution_count": 15,
   "id": "040c0362-2521-48dc-bc59-3911544f21fd",
   "metadata": {},
   "outputs": [
    {
     "name": "stdin",
     "output_type": "stream",
     "text": [
      "Enter a string:  dfg\n"
     ]
    },
    {
     "name": "stdout",
     "output_type": "stream",
     "text": [
      "Processed string: dfg\n"
     ]
    }
   ],
   "source": [
    "#task3\n",
    "def process_string():\n",
    "    s = input(\"Enter a string: \")\n",
    "    s = s.lower()\n",
    "    s = s.replace('.', '').replace(',', '')\n",
    "    print(\"Processed string:\", s)\n",
    "\n",
    "process_string()\n"
   ]
  },
  {
   "cell_type": "code",
   "execution_count": 17,
   "id": "784d52ca-a3e3-479a-8bd5-791ddd9071be",
   "metadata": {},
   "outputs": [
    {
     "name": "stdout",
     "output_type": "stream",
     "text": [
      "Index of 9362: 3\n",
      "Final list: [1830, 2314, 2956, 3900, 4353, 4499, 5566, 9362]\n"
     ]
    }
   ],
   "source": [
    "#task4\n",
    "# Initial list\n",
    "ids = [4353, 2314, 2956, 3382, 9362, 3900]\n",
    "# 1. Remove 3382 from the list\n",
    "ids.remove(3382)\n",
    "# 2. Get the index of 9362\n",
    "index_of_9362 = ids.index(9362)\n",
    "print(f\"Index of 9362: {index_of_9362}\")\n",
    "# 3. Insert 4499 in the list after 9362\n",
    "ids.insert(index_of_9362 + 1, 4499)\n",
    "# 4. Extend the list by adding [5566, 1830] to it\n",
    "ids.extend([5566, 1830])\n",
    "# 5. Reverse the list\n",
    "ids.reverse()\n",
    "# 6. Sort the list\n",
    "ids.sort()\n",
    "\n",
    "# Print the final list\n",
    "print(\"Final list:\", ids)\n"
   ]
  },
  {
   "cell_type": "code",
   "execution_count": 19,
   "id": "c9962703-5c3f-44fa-b3c4-8d644392b225",
   "metadata": {},
   "outputs": [
    {
     "name": "stdout",
     "output_type": "stream",
     "text": [
      "Sum 2: 2.81%\n",
      "Sum 3: 5.66%\n",
      "Sum 4: 8.54%\n",
      "Sum 5: 10.67%\n",
      "Sum 6: 14.04%\n",
      "Sum 7: 17.01%\n",
      "Sum 8: 13.62%\n",
      "Sum 9: 11.35%\n",
      "Sum 10: 8.14%\n",
      "Sum 11: 5.64%\n",
      "Sum 12: 2.52%\n"
     ]
    }
   ],
   "source": [
    "#task5\n",
    "import random\n",
    "\n",
    "def simulate_dice_rolls(num_rolls):\n",
    "    # Initialize a list to count occurrences of each sum (2 to 12)\n",
    "    counts = [0] * 11\n",
    "    for _ in range(num_rolls):\n",
    "        roll = random.randint(1, 6) + random.randint(1, 6)\n",
    "        counts[roll - 2] += 1\n",
    "    for i in range(11):\n",
    "        percentage = (counts[i] / num_rolls) * 100\n",
    "        print(f\"Sum {i + 2}: {percentage:.2f}%\")\n",
    "\n",
    "\n",
    "simulate_dice_rolls(10000)\n",
    "\n"
   ]
  },
  {
   "cell_type": "code",
   "execution_count": 21,
   "id": "1aa759d4-b78e-44d1-a50f-546807d3f8e1",
   "metadata": {},
   "outputs": [
    {
     "name": "stdout",
     "output_type": "stream",
     "text": [
      "List: [3, 4, 4, 5, 5, 7, 8, 8, 9, 10, 11, 11, 11, 12, 12, 12, 15, 16, 17, 17, 20, 20, 22, 22, 24, 26, 27, 28, 29, 30, 30, 32, 33, 33, 33, 34, 34, 35, 35, 36, 36, 36, 37, 38, 43, 45, 48, 49, 49, 50, 50, 52, 52, 52, 53, 54, 57, 58, 58, 59, 60, 60, 61, 61, 62, 62, 62, 62, 63, 66, 66, 68, 69, 69, 72, 73, 74, 74, 75, 77, 79, 80, 81, 81, 81, 81, 83, 85, 87, 89, 93, 93, 94, 94, 95, 98, 99, 99, 100]\n",
      "Mean: 48\n",
      "Median: 50\n",
      "Mode: 62\n"
     ]
    }
   ],
   "source": [
    "#task6\n",
    "import random\n",
    "from collections import Counter\n",
    "\n",
    "def mean(numbers):\n",
    "    return sum(numbers) // len(numbers)\n",
    "\n",
    "def median(numbers):\n",
    "    numbers.sort()\n",
    "    n = len(numbers)\n",
    "    mid = n // 2\n",
    "    if n % 2 == 0:\n",
    "        return (numbers[mid - 1] + numbers[mid]) // 2\n",
    "    else:\n",
    "        return numbers[mid]\n",
    "\n",
    "def mode(numbers):\n",
    "    frequency = Counter(numbers)\n",
    "    most_common = frequency.most_common(1)\n",
    "    return most_common[0][0]\n",
    "\n",
    "# Generate a list of 99 random numbers between 1 and 100\n",
    "random_numbers = [random.randint(1, 100) for _ in range(99)]\n",
    "\n",
    "# Compute mean, median, and mode\n",
    "mean_value = mean(random_numbers)\n",
    "median_value = median(random_numbers)\n",
    "mode_value = mode(random_numbers)\n",
    "\n",
    "# Print the results\n",
    "print(f\"List: {random_numbers}\")\n",
    "print(f\"Mean: {mean_value}\")\n",
    "print(f\"Median: {median_value}\")\n",
    "print(f\"Mode: {mode_value}\")\n",
    "\n"
   ]
  },
  {
   "cell_type": "code",
   "execution_count": 23,
   "id": "79cb6212-bb15-4aa7-a066-2179d6069c0b",
   "metadata": {},
   "outputs": [
    {
     "name": "stdout",
     "output_type": "stream",
     "text": [
      "Original list: [1, 2, 3, 4, 5]\n",
      "Rotated list: [5, 1, 2, 3, 4]\n"
     ]
    }
   ],
   "source": [
    "#task7\n",
    "def rotate_list(lst):\n",
    "    if len(lst) == 0:\n",
    "        return lst  \n",
    "    last_element = lst[-1]\n",
    "    \n",
    "    for i in range(len(lst) - 1, 0, -1):\n",
    "        lst[i] = lst[i - 1]\n",
    "    lst[0] = last_element\n",
    "    \n",
    "    return lst\n",
    "\n",
    "# Example usage\n",
    "my_list = [1, 2, 3, 4, 5]\n",
    "rotated_list = rotate_list(my_list)\n",
    "print(\"Original list:\", [1, 2, 3, 4, 5])\n",
    "print(\"Rotated list:\", rotated_list)\n"
   ]
  },
  {
   "cell_type": "code",
   "execution_count": 81,
   "id": "b7f5e531-1aeb-4692-83c4-9954fd65fc30",
   "metadata": {},
   "outputs": [
    {
     "name": "stdout",
     "output_type": "stream",
     "text": [
      "Random list: [1, 1, 1, 1, 0, 1, 0, 1, 1, 0, 1, 1, 1, 1, 1, 1, 1, 0, 0, 0, 1, 1, 0, 0, 0, 0, 0, 0, 1, 0, 1, 1, 0, 1, 1, 1, 1, 1, 1, 0, 1, 1, 0, 0, 0, 0, 1, 1, 0, 1, 0, 0, 0, 1, 1, 0, 0, 0, 1, 0, 1, 1, 1, 0, 1, 1, 0, 1, 1, 1, 1, 0, 1, 0, 0, 1, 1, 1, 1, 1, 0, 1, 0, 1, 0, 1, 0, 1, 0, 1, 0, 0, 0, 1, 1, 0, 1, 1, 1, 1]\n",
      "Longest run of zeros: 6\n"
     ]
    }
   ],
   "source": [
    "#task8\n",
    "import random\n",
    "\n",
    "def generate_random_list(size):\n",
    "    return [random.randint(0, 1) for _ in range(size)]\n",
    "\n",
    "def longest_run_of_zeros(lst):\n",
    "    max_run = 0\n",
    "    current_run = 0\n",
    "    \n",
    "    for number in lst:\n",
    "        if number == 0:\n",
    "            current_run += 1\n",
    "        else:\n",
    "            if current_run > max_run:\n",
    "                max_run = current_run\n",
    "            current_run = 0\n",
    "    if current_run > max_run:\n",
    "        max_run = current_run\n",
    "    \n",
    "    return max_run\n",
    "random_list = generate_random_list(100)\n",
    "\n",
    "longest_run = longest_run_of_zeros(random_list)\n",
    "\n",
    "print(\"Random list:\", random_list)\n",
    "print(\"Longest run of zeros:\", longest_run)\n"
   ]
  },
  {
   "cell_type": "code",
   "execution_count": null,
   "id": "15edc068-bcca-4a1e-b362-af596a54c17c",
   "metadata": {},
   "outputs": [],
   "source": [
    "#task9\n",
    "def read_matrix(rows, cols):\n",
    "    matrix = []\n",
    "    print(\"Enter the matrix values row by row:\")\n",
    "    for i in range(rows):\n",
    "        row = list(map(int, input(f\"Row {i + 1}: \").split()))\n",
    "        if len(row) != cols:\n",
    "            print(f\"Error: Each row must have exactly {cols} values.\")\n",
    "            return None\n",
    "        matrix.append(row)\n",
    "    return matrix\n",
    "\n",
    "def print_matrix(matrix):\n",
    "    for row in matrix:\n",
    "        print(' '.join(map(str, row)))\n",
    "\n",
    "def transpose(matrix):\n",
    "    rows = len(matrix)\n",
    "    cols = len(matrix[0])\n",
    "    transposed = [[0] * rows for _ in range(cols)]\n",
    "    for i in range(rows):\n",
    "        for j in range(cols):\n",
    "            transposed[j][i] = matrix[i][j]\n",
    "    return transposed\n",
    "\n",
    "def matrix_product(matrix1, matrix2):\n",
    "    rows1 = len(matrix1)\n",
    "    cols1 = len(matrix1[0])\n",
    "    rows2 = len(matrix2)\n",
    "    cols2 = len(matrix2[0])\n",
    "    \n",
    "    if cols1 != rows2:\n",
    "        raise ValueError(\"Incompatible matrix dimensions for multiplication.\")\n",
    "    \n",
    "    product = [[0] * cols2 for _ in range(rows1)]\n",
    "    for i in range(rows1):\n",
    "        for j in range(cols2):\n",
    "            for k in range(cols1):\n",
    "                product[i][j] += matrix1[i][k] * matrix2[k][j]\n",
    "    return product\n",
    "\n",
    "rows = int(input(\"Enter the number of rows: \"))\n",
    "cols = int(input(\"Enter the number of columns: \"))\n",
    "\n",
    "matrix = read_matrix(rows, cols)\n",
    "if matrix is None:\n",
    "    exit()\n",
    "transposed_matrix = transpose(matrix)\n",
    "product_matrix = matrix_product(matrix, matrix)\n",
    "\n",
    "print(\"\\nOriginal Matrix:\")\n",
    "print_matrix(matrix)\n",
    "\n",
    "print(\"\\nTranspose of the Matrix:\")\n",
    "print_matrix(transposed_matrix)\n",
    "\n",
    "print(\"\\nProduct of the Matrix with Itself:\")\n",
    "print_matrix(product_matrix)\n"
   ]
  }
 ],
 "metadata": {
  "kernelspec": {
   "display_name": "Python 3 (ipykernel)",
   "language": "python",
   "name": "python3"
  },
  "language_info": {
   "codemirror_mode": {
    "name": "ipython",
    "version": 3
   },
   "file_extension": ".py",
   "mimetype": "text/x-python",
   "name": "python",
   "nbconvert_exporter": "python",
   "pygments_lexer": "ipython3",
   "version": "3.12.4"
  }
 },
 "nbformat": 4,
 "nbformat_minor": 5
}
