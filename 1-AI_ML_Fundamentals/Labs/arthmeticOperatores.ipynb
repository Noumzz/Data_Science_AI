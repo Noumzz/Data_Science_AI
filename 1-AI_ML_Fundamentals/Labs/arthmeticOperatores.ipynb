{
 "cells": [
  {
   "cell_type": "code",
   "execution_count": null,
   "id": "3c5704a0-ac82-4d08-a8d3-4d0eff305bbc",
   "metadata": {},
   "outputs": [],
   "source": []
  },
  {
   "cell_type": "code",
   "execution_count": 6,
   "id": "981a5c67",
   "metadata": {},
   "outputs": [
    {
     "data": {
      "text/plain": [
       "(6, 20.0, 4.5, -4.5, -5, 1, 1.0, 1.0, -1, -4.5, -4.5, 19)"
      ]
     },
     "execution_count": 6,
     "metadata": {},
     "output_type": "execute_result"
    }
   ],
   "source": [
    "\n",
    "a=9-3\n",
    "b=8*2.5\n",
    "c=9/2\n",
    "d=9/-2\n",
    "e=9//-2\n",
    "f=9%2\n",
    "g=9.0%2\n",
    "h=9%2.0\n",
    "i=9%-2\n",
    "j=9/-2\n",
    "k=9/-2.0\n",
    "l=4+3*5\n",
    "m=(4+3)*5\n",
    "a,b,c,d,e,f,g,h,i,j,k,l\n"
   ]
  },
  {
   "cell_type": "code",
   "execution_count": 22,
   "id": "3bc1041f",
   "metadata": {},
   "outputs": [
    {
     "name": "stdout",
     "output_type": "stream",
     "text": [
      "5 --- 10 --- 15 --- 20 --- 25\n"
     ]
    }
   ],
   "source": [
    "x=5\n",
    "print(x,\"---\",2*x,\"---\",3*x,\"---\",4*x,\"---\",5*x)"
   ]
  },
  {
   "cell_type": "code",
   "execution_count": 40,
   "id": "4d49c1b0",
   "metadata": {},
   "outputs": [
    {
     "name": "stdin",
     "output_type": "stream",
     "text": [
      "Enter 2  numbers 11 33\n"
     ]
    },
    {
     "name": "stdout",
     "output_type": "stream",
     "text": [
      "The sum is  44\n",
      "The product is  363\n",
      "The difference is  -22\n",
      "The modulus is  11\n"
     ]
    }
   ],
   "source": [
    "num1,num2=map(int, input(\"Enter 2  numbers\").split())\n",
    "print(\"The sum is \",num1+num2)\n",
    "print(\"The product is \",num1*num2)\n",
    "print(\"The difference is \",num1-num2)\n",
    "print(\"The modulus is \",num1%num2)\n"
   ]
  },
  {
   "cell_type": "code",
   "execution_count": 42,
   "id": "0c484804-c26b-4322-bbb6-fa0b219b24f0",
   "metadata": {},
   "outputs": [
    {
     "name": "stdin",
     "output_type": "stream",
     "text": [
      "Enter the raduis of the circle 21.9\n"
     ]
    },
    {
     "name": "stdout",
     "output_type": "stream",
     "text": [
      "The diameter is  43.8\n",
      "The circumference is  137.532\n",
      "The area is 1505.9754\n"
     ]
    }
   ],
   "source": [
    "r=float(input(\"Enter the raduis of the circle\"))\n",
    "print(\"The diameter is \",2*r)\n",
    "print(\"The circumference is \" ,3.14*2*r)\n",
    "print(\"The area is\", 3.14*r*r)"
   ]
  },
  {
   "cell_type": "code",
   "execution_count": 15,
   "id": "c22ce713-c700-44a7-a2d6-d8b7384faa09",
   "metadata": {},
   "outputs": [
    {
     "name": "stdout",
     "output_type": "stream",
     "text": [
      "HHHHHHH\n",
      " HHHHHH\n",
      "  HHHHH\n",
      "   HHHH\n",
      "    HHH\n",
      "     HH\n",
      "      H\n"
     ]
    }
   ],
   "source": [
    "height=7\n",
    "for i in range(height,0,-1):\n",
    "    print(\" \"*(height-i)+\"H\"*(i))\n",
    "    \n",
    "\n",
    "\n",
    "\n",
    "\n",
    "\n",
    "\n",
    "\n",
    "\n",
    "\n",
    "\n"
   ]
  },
  {
   "cell_type": "code",
   "execution_count": 19,
   "id": "89cd15c9-a7f4-4548-a7af-cccc945cdd60",
   "metadata": {},
   "outputs": [
    {
     "name": "stdin",
     "output_type": "stream",
     "text": [
      "Enter an integer 23\n"
     ]
    },
    {
     "name": "stdout",
     "output_type": "stream",
     "text": [
      "The number is odd\n"
     ]
    }
   ],
   "source": [
    "#Write a program that reads an integer and determines and prints whether it is odd or even\n",
    "\n",
    "a=int(input(\"Enter an integer\"))\n",
    "if a%2==0:\n",
    "    print(\"The number is even\")\n",
    "else:\n",
    "    print(\"The number is odd\")\n",
    "\n",
    "\n",
    "\n",
    "\n",
    "\n",
    "\n",
    "\n",
    "\n",
    "\n",
    "\n",
    "\n",
    "\n",
    "\n"
   ]
  },
  {
   "cell_type": "code",
   "execution_count": 27,
   "id": "a8628744-6813-432e-b3f6-b90423a2fb7d",
   "metadata": {},
   "outputs": [
    {
     "name": "stdin",
     "output_type": "stream",
     "text": [
      "Enter three integers 33 78 1\n"
     ]
    },
    {
     "name": "stdout",
     "output_type": "stream",
     "text": [
      "Smallest is  1\n",
      "Largest is  78\n"
     ]
    }
   ],
   "source": [
    "'''Write a program that inputs three different integers from the keyboard, then prints the smallest and largest of these numbers.\n",
    "Use only the single-selection form of the if statement that you learned in the class.'''\n",
    "a,b,c=map(int,input(\"Enter three integers\").split())\n",
    "smallestNum=a\n",
    "largestNum=a\n",
    "if b<smallestNum:\n",
    "    smallestNum=b\n",
    "if c<smallestNum:\n",
    "    smallestNum=c\n",
    "if b>largestNum:\n",
    "    largestNum=b\n",
    "if c>largestNum:\n",
    "    largestNum=c\n",
    "print(\"Smallest is \",smallestNum)\n",
    "print(\"Largest is \",largestNum)\n",
    "\n",
    "\n",
    "    \n",
    "    \n",
    "    \n",
    "\n",
    "\n",
    "\n",
    "\n",
    "\n",
    "\n",
    "\n",
    "\n",
    "\n",
    "\n",
    "\n",
    "\n",
    "\n",
    "\n",
    "\n",
    "\n",
    "\n",
    "\n",
    "\n",
    "\n",
    "\n",
    "\n",
    "\n"
   ]
  },
  {
   "cell_type": "code",
   "execution_count": null,
   "id": "b06f341c-620b-4910-b9d1-28b046baf673",
   "metadata": {},
   "outputs": [],
   "source": []
  },
  {
   "cell_type": "code",
   "execution_count": null,
   "id": "87947f07-33bb-406a-af96-045ade639e01",
   "metadata": {},
   "outputs": [],
   "source": []
  },
  {
   "cell_type": "code",
   "execution_count": 5,
   "id": "d06363b9-3409-4a37-a27b-6aacbf968f03",
   "metadata": {},
   "outputs": [],
   "source": [
    "#8==people This Name error\n",
    "#4+=7/2 This produces a syntax error\n"
   ]
  },
  {
   "cell_type": "code",
   "execution_count": null,
   "id": "96b8f259-a71c-4dfc-8436-6129533946f5",
   "metadata": {},
   "outputs": [],
   "source": []
  },
  {
   "cell_type": "code",
   "execution_count": 98,
   "id": "99c55202-a1b5-4917-af09-8bf68b1e33cf",
   "metadata": {},
   "outputs": [
    {
     "name": "stdout",
     "output_type": "stream",
     "text": [
      "number    square    cube\n",
      "     0     0        0\n",
      "     1     1        1\n",
      "     2     4        8\n",
      "     3     9        27\n",
      "     4     16        64\n",
      "     5     25        125\n",
      "     6     36        216\n",
      "     7     49        343\n",
      "     8     64        512\n",
      "     9     81        729\n"
     ]
    }
   ],
   "source": [
    "print(\"number    square    cube\")\n",
    "for i in range(10):\n",
    "    print(\"    \",i,\"   \",i*i,\"      \",i*i*i)\n",
    "\n"
   ]
  },
  {
   "cell_type": "code",
   "execution_count": 104,
   "id": "7b0701c1-549b-40cc-9365-3736e349d4d6",
   "metadata": {},
   "outputs": [
    {
     "name": "stdout",
     "output_type": "stream",
     "text": [
      "Values of a before swaping 5\n",
      "Values of b before swaping 10\n",
      "Values of a ater swaping 10\n",
      "Values of b after swaping 5\n"
     ]
    }
   ],
   "source": [
    "a=5\n",
    "b=10\n",
    "print(\"Values of a before swaping\",a)\n",
    "print(\"Values of b before swaping\",b)\n",
    "c=b\n",
    "b=a\n",
    "a=c\n",
    "print(\"Values of a ater swaping\",a)\n",
    "print(\"Values of b after swaping\",b)"
   ]
  },
  {
   "cell_type": "code",
   "execution_count": 106,
   "id": "1ac96814-508e-482f-a40c-0d709470bfde",
   "metadata": {},
   "outputs": [
    {
     "name": "stdin",
     "output_type": "stream",
     "text": [
      "Enter a 5 digit number 12345\n"
     ]
    },
    {
     "name": "stdout",
     "output_type": "stream",
     "text": [
      "54321\n"
     ]
    }
   ],
   "source": [
    "num=int(input(\"Enter a 5 digit number\"))\n",
    "revNum=0\n",
    "while num>0:\n",
    "    lastDigit=num%10\n",
    "    revNum=(revNum*10)+lastDigit\n",
    "    num=num//10\n",
    "print(revNum)\n",
    "\n",
    "\n",
    "\n",
    "\n",
    "\n",
    "\n",
    "\n",
    "\n",
    "\n",
    "\n",
    "\n"
   ]
  },
  {
   "cell_type": "code",
   "execution_count": 122,
   "id": "44dc9cdb-057b-4491-95ee-37db02b0a457",
   "metadata": {},
   "outputs": [
    {
     "name": "stdin",
     "output_type": "stream",
     "text": [
      "Enter 3 number 3 4 5\n"
     ]
    },
    {
     "name": "stdout",
     "output_type": "stream",
     "text": [
      "The 3 integers are side of a triangle\n"
     ]
    }
   ],
   "source": [
    "a,b,c=map(int,input(\"Enter 3 number\").split())\n",
    "if (a*a==(b*b)+(c*c) or b*b==(a*a)+(c*c) or c*c==(a*a)+(b*b)):\n",
    "    print(\"The 3 integers are side of a right angle triangle\")\n",
    "else:\n",
    "    print(\"The 3 integers are not side of a right angle triangle\")"
   ]
  },
  {
   "cell_type": "code",
   "execution_count": 176,
   "id": "d47075d0-7d24-4ca5-851c-77e99d9c2f57",
   "metadata": {},
   "outputs": [
    {
     "name": "stdin",
     "output_type": "stream",
     "text": [
      "Enter a Score b/w 0.0-1.0 0.5\n"
     ]
    },
    {
     "name": "stdout",
     "output_type": "stream",
     "text": [
      "F\n"
     ]
    }
   ],
   "source": [
    "try:\n",
    "    a=float(input(\"Enter a Score b/w 0.0-1.0\"))\n",
    "    if a<0.0 or a>1.0:\n",
    "        print(\"Bad Score\")\n",
    "    else:\n",
    "        if a>=0.9:\n",
    "            print(\"A\")\n",
    "        elif a>=0.8:\n",
    "            print(\"B\")\n",
    "        elif a>=0.7:\n",
    "            print(\"C\")\n",
    "        elif a>=0.6:\n",
    "            print(\"D\")\n",
    "        else:\n",
    "            print(\"F\")\n",
    "except ValueError:\n",
    "    print(\"bad score\")\n",
    "\n",
    "\n",
    "    "
   ]
  },
  {
   "cell_type": "code",
   "execution_count": null,
   "id": "d0308d3e-d715-4a9b-a660-ff8bf2e9e762",
   "metadata": {},
   "outputs": [],
   "source": []
  },
  {
   "cell_type": "code",
   "execution_count": null,
   "id": "06f1b64b-0a05-41ce-821e-8525b27fd073",
   "metadata": {},
   "outputs": [],
   "source": []
  },
  {
   "cell_type": "code",
   "execution_count": null,
   "id": "7ea979dc-986c-4fa2-b68d-f86ade3b7686",
   "metadata": {},
   "outputs": [],
   "source": []
  },
  {
   "cell_type": "code",
   "execution_count": null,
   "id": "c511f8c6-c5d6-4784-97cb-28712a5fc7b5",
   "metadata": {},
   "outputs": [],
   "source": []
  },
  {
   "cell_type": "code",
   "execution_count": null,
   "id": "37a00aa5-07ec-4d40-a965-a323652654ac",
   "metadata": {},
   "outputs": [],
   "source": []
  },
  {
   "cell_type": "code",
   "execution_count": null,
   "id": "9ad86bd4-6f90-4645-8573-8ad58de60036",
   "metadata": {},
   "outputs": [],
   "source": [
    "    \n"
   ]
  }
 ],
 "metadata": {
  "kernelspec": {
   "display_name": "Python 3 (ipykernel)",
   "language": "python",
   "name": "python3"
  },
  "language_info": {
   "codemirror_mode": {
    "name": "ipython",
    "version": 3
   },
   "file_extension": ".py",
   "mimetype": "text/x-python",
   "name": "python",
   "nbconvert_exporter": "python",
   "pygments_lexer": "ipython3",
   "version": "3.12.4"
  }
 },
 "nbformat": 4,
 "nbformat_minor": 5
}
