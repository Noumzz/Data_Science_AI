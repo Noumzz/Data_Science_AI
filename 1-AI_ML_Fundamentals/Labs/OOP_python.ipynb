{
 "cells": [
  {
   "cell_type": "code",
   "execution_count": 9,
   "id": "ecf4ee4c-1450-422f-84fc-1c87a6f34704",
   "metadata": {},
   "outputs": [
    {
     "name": "stdout",
     "output_type": "stream",
     "text": [
      "Area of triangle is: 60\n",
      "Perimeter of triangle is: 32\n"
     ]
    }
   ],
   "source": [
    "class Rectangle:\n",
    "    def __init__(self, length, width):\n",
    "        self.length = length\n",
    "        self.width = width\n",
    "\n",
    "    def area(self):\n",
    "        return self.length * self.width\n",
    "\n",
    "    def perimeter(self):\n",
    "        return 2 * (self.length + self.width)\n",
    "\n",
    "rect_1=Rectangle(10,6)\n",
    "print(f\"Area of triangle is: {rect_1.area()}\")\n",
    "print(f\"Perimeter of triangle is: {rect_1.perimeter()}\")\n",
    "\n",
    "\n"
   ]
  },
  {
   "cell_type": "code",
   "execution_count": 11,
   "id": "2614a139-e843-40d8-938d-1b5291f598fc",
   "metadata": {},
   "outputs": [
    {
     "name": "stdout",
     "output_type": "stream",
     "text": [
      "Woof!\n",
      "Meow!\n",
      "Chirp!\n",
      "Dog is fetching the ball!\n",
      "Cat is purring!\n",
      "Bird is flying!\n"
     ]
    }
   ],
   "source": [
    "#task2\n",
    "# Base class\n",
    "class Animal:\n",
    "    def speak(self):\n",
    "        pass  \n",
    "class Dog(Animal):\n",
    "    def speak(self):\n",
    "        return \"Woof!\"\n",
    "    def fetch(self):\n",
    "        return \"Dog is fetching the ball!\"\n",
    "class Cat(Animal):\n",
    "    def speak(self):\n",
    "        return \"Meow!\"\n",
    "    def purr(self):\n",
    "        return \"Cat is purring!\"\n",
    "class Bird(Animal):\n",
    "    def speak(self):\n",
    "        return \"Chirp!\"\n",
    "    def fly(self):\n",
    "        return \"Bird is flying!\"\n",
    "def make_animal_speak(animal):\n",
    "    print(animal.speak())\n",
    "\n",
    "# Instantiate objects of each class\n",
    "dog = Dog()\n",
    "cat = Cat()\n",
    "bird = Bird()\n",
    "\n",
    "# Call the common method on each object\n",
    "make_animal_speak(dog) \n",
    "make_animal_speak(cat)  \n",
    "make_animal_speak(bird) \n",
    "\n",
    "# Call unique methods\n",
    "print(dog.fetch())  \n",
    "print(cat.purr()) \n",
    "print(bird.fly())\n"
   ]
  },
  {
   "cell_type": "code",
   "execution_count": 13,
   "id": "f6571223-84b4-4bf8-bf59-b7b8fbb5c41e",
   "metadata": {},
   "outputs": [
    {
     "name": "stdout",
     "output_type": "stream",
     "text": [
      "Area of the rectangle: 50\n",
      "Area of the circle: 153.94\n"
     ]
    }
   ],
   "source": [
    "#task3\n",
    "import math\n",
    "\n",
    "class Shape:\n",
    "    def area(self):\n",
    "        pass\n",
    "\n",
    "class Rectangle(Shape):\n",
    "    def __init__(self, length, width):\n",
    "        self.length = length\n",
    "        self.width = width\n",
    "\n",
    "    def area(self):\n",
    "        return self.length * self.width\n",
    "\n",
    "class Circle(Shape):\n",
    "    def __init__(self, radius):\n",
    "        self.radius = radius\n",
    "\n",
    "    def area(self):\n",
    "        return math.pi * (self.radius ** 2)\n",
    "\n",
    "rectangle = Rectangle(10, 5)\n",
    "circle = Circle(7)\n",
    "\n",
    "print(f\"Area of the rectangle: {rectangle.area()}\")\n",
    "print(f\"Area of the circle: {circle.area():.2f}\")\n",
    "\n"
   ]
  }
 ],
 "metadata": {
  "kernelspec": {
   "display_name": "Python 3 (ipykernel)",
   "language": "python",
   "name": "python3"
  },
  "language_info": {
   "codemirror_mode": {
    "name": "ipython",
    "version": 3
   },
   "file_extension": ".py",
   "mimetype": "text/x-python",
   "name": "python",
   "nbconvert_exporter": "python",
   "pygments_lexer": "ipython3",
   "version": "3.12.4"
  }
 },
 "nbformat": 4,
 "nbformat_minor": 5
}
